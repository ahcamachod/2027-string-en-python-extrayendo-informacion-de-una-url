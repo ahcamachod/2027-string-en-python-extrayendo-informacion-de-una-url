{
  "nbformat": 4,
  "nbformat_minor": 0,
  "metadata": {
    "colab": {
      "provenance": [],
      "authorship_tag": "ABX9TyMNPw34bEHaGVHPNluU+9NY",
      "include_colab_link": true
    },
    "kernelspec": {
      "name": "python3",
      "display_name": "Python 3"
    },
    "language_info": {
      "name": "python"
    }
  },
  "cells": [
    {
      "cell_type": "markdown",
      "metadata": {
        "id": "view-in-github",
        "colab_type": "text"
      },
      "source": [
        "<a href=\"https://colab.research.google.com/github/ahcamachod/2027-string-en-python-extrayendo-informacion-de-una-url/blob/aula-3/extractor_url.ipynb\" target=\"_parent\"><img src=\"https://colab.research.google.com/assets/colab-badge.svg\" alt=\"Open In Colab\"/></a>"
      ]
    },
    {
      "cell_type": "markdown",
      "source": [
        "\n",
        "https://www.bytebank.com/cambio?monedaOrigen=usd&monedaDestino=cop&cantidad=100\n",
        "\n"
      ],
      "metadata": {
        "id": "8zM3zdAXn-aG"
      }
    },
    {
      "cell_type": "code",
      "source": [
        "texto = 'abcdef'"
      ],
      "metadata": {
        "id": "0JG7OCz4olRx"
      },
      "execution_count": null,
      "outputs": []
    },
    {
      "cell_type": "code",
      "source": [
        "texto[0]"
      ],
      "metadata": {
        "colab": {
          "base_uri": "https://localhost:8080/",
          "height": 35
        },
        "id": "f1ZULSQgo64F",
        "outputId": "b646e7c0-a569-4f06-b03d-c486ca5f591b"
      },
      "execution_count": null,
      "outputs": [
        {
          "output_type": "execute_result",
          "data": {
            "text/plain": [
              "'a'"
            ],
            "application/vnd.google.colaboratory.intrinsic+json": {
              "type": "string"
            }
          },
          "metadata": {},
          "execution_count": 2
        }
      ]
    },
    {
      "cell_type": "code",
      "source": [
        "texto[0:3]"
      ],
      "metadata": {
        "colab": {
          "base_uri": "https://localhost:8080/",
          "height": 35
        },
        "id": "-UzXjcQeo_rG",
        "outputId": "6a08785d-e949-4f09-f514-502a8e6fdb41"
      },
      "execution_count": null,
      "outputs": [
        {
          "output_type": "execute_result",
          "data": {
            "text/plain": [
              "'abc'"
            ],
            "application/vnd.google.colaboratory.intrinsic+json": {
              "type": "string"
            }
          },
          "metadata": {},
          "execution_count": 3
        }
      ]
    },
    {
      "cell_type": "code",
      "source": [
        "texto[3:6]"
      ],
      "metadata": {
        "colab": {
          "base_uri": "https://localhost:8080/",
          "height": 35
        },
        "id": "d896YM51pM0A",
        "outputId": "9bc41f15-1967-405f-850a-b9c34451f4a3"
      },
      "execution_count": null,
      "outputs": [
        {
          "output_type": "execute_result",
          "data": {
            "text/plain": [
              "'def'"
            ],
            "application/vnd.google.colaboratory.intrinsic+json": {
              "type": "string"
            }
          },
          "metadata": {},
          "execution_count": 4
        }
      ]
    },
    {
      "cell_type": "code",
      "source": [
        "url = 'www.bytebank.com/cambio?monedaOrigen=usd'\n",
        "\n",
        "base_url = url[0:23]\n",
        "parametros_url = url[24:41]\n",
        "print(base_url)\n",
        "print(parametros_url)"
      ],
      "metadata": {
        "colab": {
          "base_uri": "https://localhost:8080/"
        },
        "id": "uNieTYqspVG2",
        "outputId": "984f593d-c789-412f-fecf-ca3ce2a5585d"
      },
      "execution_count": null,
      "outputs": [
        {
          "output_type": "stream",
          "name": "stdout",
          "text": [
            "www.bytebank.com/cambio\n",
            "monedaOrigen=usd\n"
          ]
        }
      ]
    },
    {
      "cell_type": "code",
      "source": [
        "texto.find('d')"
      ],
      "metadata": {
        "colab": {
          "base_uri": "https://localhost:8080/"
        },
        "id": "FgIPaX-fub1a",
        "outputId": "3d832a45-0569-4205-eb3c-faa6e9c00eb7"
      },
      "execution_count": null,
      "outputs": [
        {
          "output_type": "execute_result",
          "data": {
            "text/plain": [
              "3"
            ]
          },
          "metadata": {},
          "execution_count": 6
        }
      ]
    },
    {
      "cell_type": "code",
      "source": [
        "url = 'https://www.bytebank.com/cambio?monedaOrigen=usd&monedaDestino=cop&cantidad=100&operacion=venta'\n",
        "url.find('?')"
      ],
      "metadata": {
        "colab": {
          "base_uri": "https://localhost:8080/"
        },
        "id": "NZWazmvUu9Iw",
        "outputId": "0b61d808-1b75-4396-9904-f87a1388a052"
      },
      "execution_count": null,
      "outputs": [
        {
          "output_type": "execute_result",
          "data": {
            "text/plain": [
              "31"
            ]
          },
          "metadata": {},
          "execution_count": 7
        }
      ]
    },
    {
      "cell_type": "code",
      "source": [
        "indice_interrogacion = url.find('?')\n",
        "base_url = url[:indice_interrogacion]\n",
        "parametros_url = url[indice_interrogacion + 1:]\n",
        "print(base_url)\n",
        "print(parametros_url)"
      ],
      "metadata": {
        "colab": {
          "base_uri": "https://localhost:8080/"
        },
        "id": "CZ1v6zHIvRwH",
        "outputId": "c6f31155-2889-4dd3-b7c1-899df079647d"
      },
      "execution_count": null,
      "outputs": [
        {
          "output_type": "stream",
          "name": "stdout",
          "text": [
            "https://www.bytebank.com/cambio\n",
            "monedaOrigen=usd&monedaDestino=cop&cantidad=100&operacion=venta\n"
          ]
        }
      ]
    },
    {
      "cell_type": "code",
      "source": [
        "texto = 'Yo estudio en Alura'\n",
        "texto.find('estudio')"
      ],
      "metadata": {
        "colab": {
          "base_uri": "https://localhost:8080/"
        },
        "id": "PWWqUdLSv6Jw",
        "outputId": "d1e97614-a148-411c-bd98-ad9157f38d0d"
      },
      "execution_count": null,
      "outputs": [
        {
          "output_type": "execute_result",
          "data": {
            "text/plain": [
              "3"
            ]
          },
          "metadata": {},
          "execution_count": 9
        }
      ]
    },
    {
      "cell_type": "code",
      "source": [
        "parametro_busqueda = 'operacion'\n",
        "indice_parametro = parametros_url.find(parametro_busqueda)\n",
        "indice_valor = indice_parametro + len(parametro_busqueda) + 1"
      ],
      "metadata": {
        "id": "U_h82kmoyTR2"
      },
      "execution_count": null,
      "outputs": []
    },
    {
      "cell_type": "code",
      "source": [
        "valor = parametros_url[indice_valor:]\n",
        "print(valor)"
      ],
      "metadata": {
        "colab": {
          "base_uri": "https://localhost:8080/"
        },
        "id": "fqdiNh8GzQmd",
        "outputId": "2dd2e771-1bc8-42f5-a43e-922877b4b334"
      },
      "execution_count": null,
      "outputs": [
        {
          "output_type": "stream",
          "name": "stdout",
          "text": [
            "venta\n"
          ]
        }
      ]
    },
    {
      "cell_type": "code",
      "source": [
        "parametro_busqueda = 'operacion'\n",
        "indice_parametro = parametros_url.find(parametro_busqueda)\n",
        "indice_valor = indice_parametro + len(parametro_busqueda) + 1\n",
        "valor = parametros_url[indice_valor:]\n",
        "print(valor)"
      ],
      "metadata": {
        "colab": {
          "base_uri": "https://localhost:8080/"
        },
        "id": "NnTIvyewzcZ1",
        "outputId": "8a6d2c84-158c-40e9-e745-1c5ed38b44d8"
      },
      "execution_count": null,
      "outputs": [
        {
          "output_type": "stream",
          "name": "stdout",
          "text": [
            "venta\n"
          ]
        }
      ]
    },
    {
      "cell_type": "code",
      "source": [
        "texto.find('z')"
      ],
      "metadata": {
        "colab": {
          "base_uri": "https://localhost:8080/"
        },
        "id": "xdLRbrKB2tXa",
        "outputId": "8586f280-a098-4301-996b-a8b94a35ac29"
      },
      "execution_count": null,
      "outputs": [
        {
          "output_type": "execute_result",
          "data": {
            "text/plain": [
              "-1"
            ]
          },
          "metadata": {},
          "execution_count": 13
        }
      ]
    },
    {
      "cell_type": "code",
      "source": [
        "indice_and = parametros_url.find('&',indice_valor)\n",
        "valor = parametros_url[indice_valor:indice_and]\n",
        "print(valor)"
      ],
      "metadata": {
        "colab": {
          "base_uri": "https://localhost:8080/"
        },
        "id": "sfLW71uv3QaL",
        "outputId": "9ef92422-1cdb-4d1f-c5c4-d1e06c3e4105"
      },
      "execution_count": null,
      "outputs": [
        {
          "output_type": "stream",
          "name": "stdout",
          "text": [
            "vent\n"
          ]
        }
      ]
    },
    {
      "cell_type": "code",
      "source": [
        "url = 'https://www.bytebank.com/cambio?operacion=venta&monedaOrigen=usd&monedaDestino=cop&cantidad=100'\n",
        "\n",
        "parametro_busqueda = 'cantidad'\n",
        "indice_parametro = parametros_url.find(parametro_busqueda)\n",
        "indice_valor = indice_parametro + len(parametro_busqueda) + 1\n",
        "indice_and = parametros_url.find('&',indice_valor)\n",
        "if indice_and == -1:\n",
        "  valor = parametros_url[indice_valor:]\n",
        "else:\n",
        "  valor = parametros_url[indice_valor:indice_and]\n",
        "print(valor)"
      ],
      "metadata": {
        "colab": {
          "base_uri": "https://localhost:8080/"
        },
        "id": "DFSen3693hy2",
        "outputId": "621ddcf1-5ab2-4fb4-aea3-3d4e9d8655cf"
      },
      "execution_count": null,
      "outputs": [
        {
          "output_type": "stream",
          "name": "stdout",
          "text": [
            "100\n"
          ]
        }
      ]
    }
  ]
}