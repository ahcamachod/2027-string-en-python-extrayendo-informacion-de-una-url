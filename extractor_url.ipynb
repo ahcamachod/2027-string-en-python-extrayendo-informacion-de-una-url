{
  "nbformat": 4,
  "nbformat_minor": 0,
  "metadata": {
    "colab": {
      "provenance": [],
      "authorship_tag": "ABX9TyPvQfZOUUluGyQ/m6hIaRzH",
      "include_colab_link": true
    },
    "kernelspec": {
      "name": "python3",
      "display_name": "Python 3"
    },
    "language_info": {
      "name": "python"
    }
  },
  "cells": [
    {
      "cell_type": "markdown",
      "metadata": {
        "id": "view-in-github",
        "colab_type": "text"
      },
      "source": [
        "<a href=\"https://colab.research.google.com/github/ahcamachod/2027-string-en-python-extrayendo-informacion-de-una-url/blob/aula-2/extractor_url.ipynb\" target=\"_parent\"><img src=\"https://colab.research.google.com/assets/colab-badge.svg\" alt=\"Open In Colab\"/></a>"
      ]
    },
    {
      "cell_type": "markdown",
      "source": [
        "\n",
        "https://www.bytebank.com/cambio?monedaOrigen=usd&monedaDestino=cop&cantidad=100\n",
        "\n"
      ],
      "metadata": {
        "id": "8zM3zdAXn-aG"
      }
    },
    {
      "cell_type": "code",
      "source": [
        "texto = 'abcdef'"
      ],
      "metadata": {
        "id": "0JG7OCz4olRx"
      },
      "execution_count": null,
      "outputs": []
    },
    {
      "cell_type": "code",
      "source": [
        "texto[0]"
      ],
      "metadata": {
        "colab": {
          "base_uri": "https://localhost:8080/",
          "height": 35
        },
        "id": "f1ZULSQgo64F",
        "outputId": "b646e7c0-a569-4f06-b03d-c486ca5f591b"
      },
      "execution_count": null,
      "outputs": [
        {
          "output_type": "execute_result",
          "data": {
            "text/plain": [
              "'a'"
            ],
            "application/vnd.google.colaboratory.intrinsic+json": {
              "type": "string"
            }
          },
          "metadata": {},
          "execution_count": 2
        }
      ]
    },
    {
      "cell_type": "code",
      "source": [
        "texto[0:3]"
      ],
      "metadata": {
        "colab": {
          "base_uri": "https://localhost:8080/",
          "height": 35
        },
        "id": "-UzXjcQeo_rG",
        "outputId": "6a08785d-e949-4f09-f514-502a8e6fdb41"
      },
      "execution_count": null,
      "outputs": [
        {
          "output_type": "execute_result",
          "data": {
            "text/plain": [
              "'abc'"
            ],
            "application/vnd.google.colaboratory.intrinsic+json": {
              "type": "string"
            }
          },
          "metadata": {},
          "execution_count": 3
        }
      ]
    },
    {
      "cell_type": "code",
      "source": [
        "texto[3:6]"
      ],
      "metadata": {
        "colab": {
          "base_uri": "https://localhost:8080/",
          "height": 35
        },
        "id": "d896YM51pM0A",
        "outputId": "9bc41f15-1967-405f-850a-b9c34451f4a3"
      },
      "execution_count": null,
      "outputs": [
        {
          "output_type": "execute_result",
          "data": {
            "text/plain": [
              "'def'"
            ],
            "application/vnd.google.colaboratory.intrinsic+json": {
              "type": "string"
            }
          },
          "metadata": {},
          "execution_count": 4
        }
      ]
    },
    {
      "cell_type": "code",
      "source": [
        "url = 'www.bytebank.com/cambio?monedaOrigen=usd'\n",
        "\n",
        "base_url = url[0:23]\n",
        "parametros_url = url[24:41]\n",
        "print(base_url)\n",
        "print(parametros_url)"
      ],
      "metadata": {
        "colab": {
          "base_uri": "https://localhost:8080/"
        },
        "id": "uNieTYqspVG2",
        "outputId": "984f593d-c789-412f-fecf-ca3ce2a5585d"
      },
      "execution_count": null,
      "outputs": [
        {
          "output_type": "stream",
          "name": "stdout",
          "text": [
            "www.bytebank.com/cambio\n",
            "monedaOrigen=usd\n"
          ]
        }
      ]
    }
  ]
}