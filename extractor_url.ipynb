{
  "nbformat": 4,
  "nbformat_minor": 0,
  "metadata": {
    "colab": {
      "provenance": [],
      "authorship_tag": "ABX9TyNVmMd2RiU0Lp/hYJH7ltnm",
      "include_colab_link": true
    },
    "kernelspec": {
      "name": "python3",
      "display_name": "Python 3"
    },
    "language_info": {
      "name": "python"
    }
  },
  "cells": [
    {
      "cell_type": "markdown",
      "metadata": {
        "id": "view-in-github",
        "colab_type": "text"
      },
      "source": [
        "<a href=\"https://colab.research.google.com/github/ahcamachod/2027-string-en-python-extrayendo-informacion-de-una-url/blob/proyecto-final/extractor_url.ipynb\" target=\"_parent\"><img src=\"https://colab.research.google.com/assets/colab-badge.svg\" alt=\"Open In Colab\"/></a>"
      ]
    },
    {
      "cell_type": "markdown",
      "source": [
        "\n",
        "https://www.bytebank.com/cambio?monedaOrigen=usd&monedaDestino=cop&cantidad=100\n",
        "\n"
      ],
      "metadata": {
        "id": "8zM3zdAXn-aG"
      }
    },
    {
      "cell_type": "code",
      "source": [
        "texto = 'abcdef'"
      ],
      "metadata": {
        "id": "0JG7OCz4olRx"
      },
      "execution_count": null,
      "outputs": []
    },
    {
      "cell_type": "code",
      "source": [
        "texto[0]"
      ],
      "metadata": {
        "colab": {
          "base_uri": "https://localhost:8080/",
          "height": 35
        },
        "id": "f1ZULSQgo64F",
        "outputId": "b646e7c0-a569-4f06-b03d-c486ca5f591b"
      },
      "execution_count": null,
      "outputs": [
        {
          "output_type": "execute_result",
          "data": {
            "text/plain": [
              "'a'"
            ],
            "application/vnd.google.colaboratory.intrinsic+json": {
              "type": "string"
            }
          },
          "metadata": {},
          "execution_count": 2
        }
      ]
    },
    {
      "cell_type": "code",
      "source": [
        "texto[0:3]"
      ],
      "metadata": {
        "colab": {
          "base_uri": "https://localhost:8080/",
          "height": 35
        },
        "id": "-UzXjcQeo_rG",
        "outputId": "6a08785d-e949-4f09-f514-502a8e6fdb41"
      },
      "execution_count": null,
      "outputs": [
        {
          "output_type": "execute_result",
          "data": {
            "text/plain": [
              "'abc'"
            ],
            "application/vnd.google.colaboratory.intrinsic+json": {
              "type": "string"
            }
          },
          "metadata": {},
          "execution_count": 3
        }
      ]
    },
    {
      "cell_type": "code",
      "source": [
        "texto[3:6]"
      ],
      "metadata": {
        "colab": {
          "base_uri": "https://localhost:8080/",
          "height": 35
        },
        "id": "d896YM51pM0A",
        "outputId": "9bc41f15-1967-405f-850a-b9c34451f4a3"
      },
      "execution_count": null,
      "outputs": [
        {
          "output_type": "execute_result",
          "data": {
            "text/plain": [
              "'def'"
            ],
            "application/vnd.google.colaboratory.intrinsic+json": {
              "type": "string"
            }
          },
          "metadata": {},
          "execution_count": 4
        }
      ]
    },
    {
      "cell_type": "code",
      "source": [
        "url = 'www.bytebank.com/cambio?monedaOrigen=usd'\n",
        "\n",
        "base_url = url[0:23]\n",
        "parametros_url = url[24:41]\n",
        "print(base_url)\n",
        "print(parametros_url)"
      ],
      "metadata": {
        "colab": {
          "base_uri": "https://localhost:8080/"
        },
        "id": "uNieTYqspVG2",
        "outputId": "984f593d-c789-412f-fecf-ca3ce2a5585d"
      },
      "execution_count": null,
      "outputs": [
        {
          "output_type": "stream",
          "name": "stdout",
          "text": [
            "www.bytebank.com/cambio\n",
            "monedaOrigen=usd\n"
          ]
        }
      ]
    },
    {
      "cell_type": "code",
      "source": [
        "texto.find('d')"
      ],
      "metadata": {
        "colab": {
          "base_uri": "https://localhost:8080/"
        },
        "id": "FgIPaX-fub1a",
        "outputId": "3d832a45-0569-4205-eb3c-faa6e9c00eb7"
      },
      "execution_count": null,
      "outputs": [
        {
          "output_type": "execute_result",
          "data": {
            "text/plain": [
              "3"
            ]
          },
          "metadata": {},
          "execution_count": 6
        }
      ]
    },
    {
      "cell_type": "code",
      "source": [
        "url = 'https://www.bytebank.com/cambio?monedaOrigen=usd&monedaDestino=cop&cantidad=100&operacion=venta'\n",
        "url.find('?')"
      ],
      "metadata": {
        "colab": {
          "base_uri": "https://localhost:8080/"
        },
        "id": "NZWazmvUu9Iw",
        "outputId": "0b61d808-1b75-4396-9904-f87a1388a052"
      },
      "execution_count": null,
      "outputs": [
        {
          "output_type": "execute_result",
          "data": {
            "text/plain": [
              "31"
            ]
          },
          "metadata": {},
          "execution_count": 7
        }
      ]
    },
    {
      "cell_type": "code",
      "source": [
        "indice_interrogacion = url.find('?')\n",
        "base_url = url[:indice_interrogacion]\n",
        "parametros_url = url[indice_interrogacion + 1:]\n",
        "print(base_url)\n",
        "print(parametros_url)"
      ],
      "metadata": {
        "colab": {
          "base_uri": "https://localhost:8080/"
        },
        "id": "CZ1v6zHIvRwH",
        "outputId": "c6f31155-2889-4dd3-b7c1-899df079647d"
      },
      "execution_count": null,
      "outputs": [
        {
          "output_type": "stream",
          "name": "stdout",
          "text": [
            "https://www.bytebank.com/cambio\n",
            "monedaOrigen=usd&monedaDestino=cop&cantidad=100&operacion=venta\n"
          ]
        }
      ]
    },
    {
      "cell_type": "code",
      "source": [
        "texto = 'Yo estudio en Alura'\n",
        "texto.find('estudio')"
      ],
      "metadata": {
        "colab": {
          "base_uri": "https://localhost:8080/"
        },
        "id": "PWWqUdLSv6Jw",
        "outputId": "d1e97614-a148-411c-bd98-ad9157f38d0d"
      },
      "execution_count": null,
      "outputs": [
        {
          "output_type": "execute_result",
          "data": {
            "text/plain": [
              "3"
            ]
          },
          "metadata": {},
          "execution_count": 9
        }
      ]
    },
    {
      "cell_type": "code",
      "source": [
        "parametro_busqueda = 'operacion'\n",
        "indice_parametro = parametros_url.find(parametro_busqueda)\n",
        "indice_valor = indice_parametro + len(parametro_busqueda) + 1"
      ],
      "metadata": {
        "id": "U_h82kmoyTR2"
      },
      "execution_count": null,
      "outputs": []
    },
    {
      "cell_type": "code",
      "source": [
        "valor = parametros_url[indice_valor:]\n",
        "print(valor)"
      ],
      "metadata": {
        "colab": {
          "base_uri": "https://localhost:8080/"
        },
        "id": "fqdiNh8GzQmd",
        "outputId": "2dd2e771-1bc8-42f5-a43e-922877b4b334"
      },
      "execution_count": null,
      "outputs": [
        {
          "output_type": "stream",
          "name": "stdout",
          "text": [
            "venta\n"
          ]
        }
      ]
    },
    {
      "cell_type": "code",
      "source": [
        "parametro_busqueda = 'operacion'\n",
        "indice_parametro = parametros_url.find(parametro_busqueda)\n",
        "indice_valor = indice_parametro + len(parametro_busqueda) + 1\n",
        "valor = parametros_url[indice_valor:]\n",
        "print(valor)"
      ],
      "metadata": {
        "colab": {
          "base_uri": "https://localhost:8080/"
        },
        "id": "NnTIvyewzcZ1",
        "outputId": "8a6d2c84-158c-40e9-e745-1c5ed38b44d8"
      },
      "execution_count": null,
      "outputs": [
        {
          "output_type": "stream",
          "name": "stdout",
          "text": [
            "venta\n"
          ]
        }
      ]
    },
    {
      "cell_type": "code",
      "source": [
        "texto.find('z')"
      ],
      "metadata": {
        "colab": {
          "base_uri": "https://localhost:8080/"
        },
        "id": "xdLRbrKB2tXa",
        "outputId": "8586f280-a098-4301-996b-a8b94a35ac29"
      },
      "execution_count": null,
      "outputs": [
        {
          "output_type": "execute_result",
          "data": {
            "text/plain": [
              "-1"
            ]
          },
          "metadata": {},
          "execution_count": 13
        }
      ]
    },
    {
      "cell_type": "code",
      "source": [
        "indice_and = parametros_url.find('&',indice_valor)\n",
        "valor = parametros_url[indice_valor:indice_and]\n",
        "print(valor)"
      ],
      "metadata": {
        "colab": {
          "base_uri": "https://localhost:8080/"
        },
        "id": "sfLW71uv3QaL",
        "outputId": "9ef92422-1cdb-4d1f-c5c4-d1e06c3e4105"
      },
      "execution_count": null,
      "outputs": [
        {
          "output_type": "stream",
          "name": "stdout",
          "text": [
            "vent\n"
          ]
        }
      ]
    },
    {
      "cell_type": "code",
      "source": [
        "url = 'https://www.bytebank.com/cambio?operacion=venta&monedaOrigen=usd&monedaDestino=cop&cantidad=100'\n",
        "\n",
        "parametro_busqueda = 'cantidad'\n",
        "indice_parametro = parametros_url.find(parametro_busqueda)\n",
        "indice_valor = indice_parametro + len(parametro_busqueda) + 1\n",
        "indice_and = parametros_url.find('&',indice_valor)\n",
        "if indice_and == -1:\n",
        "  valor = parametros_url[indice_valor:]\n",
        "else:\n",
        "  valor = parametros_url[indice_valor:indice_and]\n",
        "print(valor)"
      ],
      "metadata": {
        "colab": {
          "base_uri": "https://localhost:8080/"
        },
        "id": "DFSen3693hy2",
        "outputId": "621ddcf1-5ab2-4fb4-aea3-3d4e9d8655cf"
      },
      "execution_count": null,
      "outputs": [
        {
          "output_type": "stream",
          "name": "stdout",
          "text": [
            "100\n"
          ]
        }
      ]
    },
    {
      "cell_type": "code",
      "source": [
        "url = ''\n",
        "url  = url.strip()\n",
        "\n",
        "if url == '':\n",
        "  raise ValueError('La URL está vacía.')\n",
        "\n",
        "parametro_busqueda = 'cantidad'\n",
        "indice_parametro = parametros_url.find(parametro_busqueda)\n",
        "indice_valor = indice_parametro + len(parametro_busqueda) + 1\n",
        "indice_and = parametros_url.find('&',indice_valor)\n",
        "if indice_and == -1:\n",
        "  valor = parametros_url[indice_valor:]\n",
        "else:\n",
        "  valor = parametros_url[indice_valor:indice_and]\n",
        "print(valor)"
      ],
      "metadata": {
        "colab": {
          "base_uri": "https://localhost:8080/",
          "height": 235
        },
        "id": "PlE-ckoB43ad",
        "outputId": "f46dff6d-c2f1-4e0e-a24c-51cf32395a33"
      },
      "execution_count": null,
      "outputs": [
        {
          "output_type": "error",
          "ename": "ValueError",
          "evalue": "ignored",
          "traceback": [
            "\u001b[0;31m---------------------------------------------------------------------------\u001b[0m",
            "\u001b[0;31mValueError\u001b[0m                                Traceback (most recent call last)",
            "\u001b[0;32m<ipython-input-16-d837503f6f85>\u001b[0m in \u001b[0;36m<cell line: 4>\u001b[0;34m()\u001b[0m\n\u001b[1;32m      3\u001b[0m \u001b[0;34m\u001b[0m\u001b[0m\n\u001b[1;32m      4\u001b[0m \u001b[0;32mif\u001b[0m \u001b[0murl\u001b[0m \u001b[0;34m==\u001b[0m \u001b[0;34m''\u001b[0m\u001b[0;34m:\u001b[0m\u001b[0;34m\u001b[0m\u001b[0;34m\u001b[0m\u001b[0m\n\u001b[0;32m----> 5\u001b[0;31m   \u001b[0;32mraise\u001b[0m \u001b[0mValueError\u001b[0m\u001b[0;34m(\u001b[0m\u001b[0;34m'La URL está vacía.'\u001b[0m\u001b[0;34m)\u001b[0m\u001b[0;34m\u001b[0m\u001b[0;34m\u001b[0m\u001b[0m\n\u001b[0m\u001b[1;32m      6\u001b[0m \u001b[0;34m\u001b[0m\u001b[0m\n\u001b[1;32m      7\u001b[0m \u001b[0mparametro_busqueda\u001b[0m \u001b[0;34m=\u001b[0m \u001b[0;34m'cantidad'\u001b[0m\u001b[0;34m\u001b[0m\u001b[0;34m\u001b[0m\u001b[0m\n",
            "\u001b[0;31mValueError\u001b[0m: La URL está vacía."
          ]
        }
      ]
    },
    {
      "cell_type": "code",
      "source": [
        "'' == ' '"
      ],
      "metadata": {
        "colab": {
          "base_uri": "https://localhost:8080/"
        },
        "id": "UQ93imqK7Bpl",
        "outputId": "2b98f29f-ef34-4c14-f6a4-36258d0e4db9"
      },
      "execution_count": null,
      "outputs": [
        {
          "output_type": "execute_result",
          "data": {
            "text/plain": [
              "False"
            ]
          },
          "metadata": {},
          "execution_count": 17
        }
      ]
    },
    {
      "cell_type": "code",
      "source": [
        "url.replace(' ','')"
      ],
      "metadata": {
        "colab": {
          "base_uri": "https://localhost:8080/",
          "height": 35
        },
        "id": "E_ubP1rB7Sdi",
        "outputId": "876b8043-28e5-413d-bae5-40f7bb74c199"
      },
      "execution_count": null,
      "outputs": [
        {
          "output_type": "execute_result",
          "data": {
            "text/plain": [
              "''"
            ],
            "application/vnd.google.colaboratory.intrinsic+json": {
              "type": "string"
            }
          },
          "metadata": {},
          "execution_count": 18
        }
      ]
    },
    {
      "cell_type": "code",
      "source": [
        "texto = \"\\n     dds   \"\n",
        "texto.strip()"
      ],
      "metadata": {
        "colab": {
          "base_uri": "https://localhost:8080/",
          "height": 35
        },
        "id": "ldnFolMM7zUC",
        "outputId": "b6fea567-b080-4514-905f-1688db14f6d1"
      },
      "execution_count": null,
      "outputs": [
        {
          "output_type": "execute_result",
          "data": {
            "text/plain": [
              "'dds'"
            ],
            "application/vnd.google.colaboratory.intrinsic+json": {
              "type": "string"
            }
          },
          "metadata": {},
          "execution_count": 19
        }
      ]
    },
    {
      "cell_type": "code",
      "source": [
        "# Clase que sirva para limpiar, validar, obtener la url base y los parámetros además del valor de los parámetros.\n",
        "\n",
        "class ExtractorURL:\n",
        "  def __init__(self,url):\n",
        "    self.url = self.limpia_url(url)\n",
        "    self.valida_url()\n",
        "\n",
        "  def limpia_url(self,url):\n",
        "    if type(url) == str:\n",
        "      return url.strip()\n",
        "\n",
        "  def valida_url(self):\n",
        "    if not self.url:\n",
        "      raise ValueError('La URL está vacía.')\n",
        "\n",
        "  def get_base(self):\n",
        "    indice_interrogacion = self.url.find('?')\n",
        "    base_url = self.url[:indice_interrogacion]\n",
        "    return base_url\n",
        "\n",
        "  def get_parametros(self):\n",
        "    indice_interrogacion = self.url.find('?')\n",
        "    parametros_url = self.url[indice_interrogacion+1:]\n",
        "    return parametros_url\n",
        "\n",
        "  def get_valor_parametro(self,parametro_busqueda):\n",
        "    parametro_busqueda = parametro_busqueda\n",
        "    indice_parametro = self.get_parametros().find(parametro_busqueda)\n",
        "    indice_valor = indice_parametro + len(parametro_busqueda) + 1\n",
        "    indice_and = self.get_parametros().find('&',indice_valor)\n",
        "    if indice_and == -1:\n",
        "      valor = self.get_parametros()[indice_valor:]\n",
        "    else:\n",
        "      valor = self.get_parametros()[indice_valor:indice_and]\n",
        "    return valor"
      ],
      "metadata": {
        "id": "lPFU64vdIak4"
      },
      "execution_count": null,
      "outputs": []
    },
    {
      "cell_type": "code",
      "source": [
        "extractor_url = ExtractorURL('bytebank/cambio?monedaOrigen=usd&monedaDestino=cop&cantidad=100&operacion=venta')\n",
        "valor_parametro = extractor_url.get_valor_parametro('operacion')\n",
        "print(valor_parametro)"
      ],
      "metadata": {
        "colab": {
          "base_uri": "https://localhost:8080/"
        },
        "id": "NJ5XudhVKdUZ",
        "outputId": "271d63c7-bb34-4e4b-ec9f-28d63555b91c"
      },
      "execution_count": null,
      "outputs": [
        {
          "output_type": "stream",
          "name": "stdout",
          "text": [
            "venta\n"
          ]
        }
      ]
    },
    {
      "cell_type": "code",
      "source": [
        "type(None)"
      ],
      "metadata": {
        "colab": {
          "base_uri": "https://localhost:8080/"
        },
        "id": "6AxLtSnVMNoE",
        "outputId": "03260219-05a1-4d5d-e6d2-47cafef0264e"
      },
      "execution_count": null,
      "outputs": [
        {
          "output_type": "execute_result",
          "data": {
            "text/plain": [
              "NoneType"
            ]
          },
          "metadata": {},
          "execution_count": 22
        }
      ]
    },
    {
      "cell_type": "code",
      "source": [
        "def test(valor):\n",
        "  if valor:\n",
        "    print('El valor es verdadero')\n",
        "  else:\n",
        "    print('El valor es falso')"
      ],
      "metadata": {
        "id": "9_ayFJR5PCKr"
      },
      "execution_count": null,
      "outputs": []
    },
    {
      "cell_type": "code",
      "source": [
        "test('')"
      ],
      "metadata": {
        "colab": {
          "base_uri": "https://localhost:8080/"
        },
        "id": "MTaRFkShPVQN",
        "outputId": "e34bc315-ca15-4314-ff30-877d6226bec5"
      },
      "execution_count": null,
      "outputs": [
        {
          "output_type": "stream",
          "name": "stdout",
          "text": [
            "El valor es falso\n"
          ]
        }
      ]
    },
    {
      "cell_type": "code",
      "source": [
        "test(None)"
      ],
      "metadata": {
        "colab": {
          "base_uri": "https://localhost:8080/"
        },
        "id": "vK-hfic6PW3T",
        "outputId": "6bced409-574e-4f3f-fba1-c96ddc845e9e"
      },
      "execution_count": null,
      "outputs": [
        {
          "output_type": "stream",
          "name": "stdout",
          "text": [
            "El valor es falso\n"
          ]
        }
      ]
    },
    {
      "cell_type": "code",
      "source": [
        "bool('')"
      ],
      "metadata": {
        "colab": {
          "base_uri": "https://localhost:8080/"
        },
        "id": "fowIzWIlPY5Y",
        "outputId": "5d5dcf45-1708-42b5-bdb2-12bbb4b73ef6"
      },
      "execution_count": null,
      "outputs": [
        {
          "output_type": "execute_result",
          "data": {
            "text/plain": [
              "False"
            ]
          },
          "metadata": {},
          "execution_count": 26
        }
      ]
    },
    {
      "cell_type": "code",
      "source": [
        "#RegEx Regular Expressions\n",
        "import re\n",
        "\n",
        "direccion = 'Calle Cristobal ,No. 45, La Loma, 54060-7689'\n",
        "patron = re.compile('[0-9]{5}[-]?[0-9]{4}')"
      ],
      "metadata": {
        "id": "7LJwnGCEPhpS"
      },
      "execution_count": null,
      "outputs": []
    },
    {
      "cell_type": "code",
      "source": [
        "busqueda = patron.search(direccion)\n",
        "if busqueda:\n",
        "  print(busqueda.group())"
      ],
      "metadata": {
        "colab": {
          "base_uri": "https://localhost:8080/"
        },
        "id": "L8qNhc1TS9rS",
        "outputId": "7d0a6c0e-2ed8-4b8b-8f90-0575f639d3c3"
      },
      "execution_count": null,
      "outputs": [
        {
          "output_type": "stream",
          "name": "stdout",
          "text": [
            "54060-7689\n"
          ]
        }
      ]
    },
    {
      "cell_type": "code",
      "source": [
        "'''\n",
        "Ejemplos de URLs válidas:\n",
        "    bytebank.com/cambio\n",
        "    bytebank.com.mx/cambio\n",
        "    www.bytebank.com/cambio\n",
        "    www.bytebank.com.mx/cambio\n",
        "    http://www.bytebank.com/cambio\n",
        "    http://www.bytebank.com.mx/cambio\n",
        "    https://www.bytebank.com/cambio\n",
        "    https://www.bytebank.com.mx/cambio\n",
        "\n",
        "Ejemplos de URL inválidas:\n",
        "    https://bytebank/cambio\n",
        "    http://bytebank.noexiste/cambio\n",
        "    ht:bytebank.noexiste/cambio\n",
        "'''\n",
        "import re\n",
        "\n",
        "class ExtractorURL:\n",
        "  def __init__(self,url):\n",
        "    self.url = self.limpia_url(url)\n",
        "    self.valida_url()\n",
        "\n",
        "  def limpia_url(self,url):\n",
        "    if type(url) == str:\n",
        "      return url.strip()\n",
        "    else:\n",
        "      return ''\n",
        "\n",
        "  def valida_url(self):\n",
        "    if not self.url:\n",
        "      raise ValueError('La URL está vacía.')\n",
        "\n",
        "    patron_url = re.compile('(http[s]?://)?(www.)?bytebank.com(.mx)?/cambio')\n",
        "    match_ = patron_url.match(self.url)\n",
        "    if not match_:\n",
        "      print('La url es inválida.')\n",
        "\n",
        "  def get_base(self):\n",
        "    indice_interrogacion = self.url.find('?')\n",
        "    base_url = self.url[:indice_interrogacion]\n",
        "    return base_url\n",
        "\n",
        "  def get_parametros(self):\n",
        "    indice_interrogacion = self.url.find('?')\n",
        "    parametros_url = self.url[indice_interrogacion+1:]\n",
        "    return parametros_url\n",
        "\n",
        "  def get_valor_parametro(self,parametro_busqueda):\n",
        "    parametro_busqueda = parametro_busqueda\n",
        "    indice_parametro = self.get_parametros().find(parametro_busqueda)\n",
        "    indice_valor = indice_parametro + len(parametro_busqueda) + 1\n",
        "    indice_and = self.get_parametros().find('&',indice_valor)\n",
        "    if indice_and == -1:\n",
        "      valor = self.get_parametros()[indice_valor:]\n",
        "    else:\n",
        "      valor = self.get_parametros()[indice_valor:indice_and]\n",
        "    return valor\n",
        "\n",
        "  def __len__(self):\n",
        "    return len(self.url)\n",
        "\n",
        "  def __str__(self):\n",
        "    return self.url + '\\n Url base: ' + self.get_base() + '\\n Parámetros: ' + self.get_parametros()\n",
        "\n",
        "  def __eq__(self, other):\n",
        "    return self.url == other.url"
      ],
      "metadata": {
        "id": "n8RiS9HRTLzN"
      },
      "execution_count": null,
      "outputs": []
    },
    {
      "cell_type": "code",
      "source": [
        "extractor_url = ExtractorURL('bytebank.com/cambio?monedaOrigen=usd&monedaDestino=cop&cantidad=100&operacion=venta')\n",
        "extractor_url_2 = ExtractorURL('bytebank.com/cambio?monedaOrigen=usd&monedaDestino=cop&cantidad=100&operacion=venta')"
      ],
      "metadata": {
        "id": "TBLfjLoUbDoT"
      },
      "execution_count": null,
      "outputs": []
    },
    {
      "cell_type": "code",
      "source": [
        "print(len(extractor_url))"
      ],
      "metadata": {
        "colab": {
          "base_uri": "https://localhost:8080/"
        },
        "id": "Hx4zgU-KcWl8",
        "outputId": "785cb56a-22c8-4579-b9cb-e96b1a376f18"
      },
      "execution_count": null,
      "outputs": [
        {
          "output_type": "stream",
          "name": "stdout",
          "text": [
            "83\n"
          ]
        }
      ]
    },
    {
      "cell_type": "code",
      "source": [
        "print(extractor_url)"
      ],
      "metadata": {
        "colab": {
          "base_uri": "https://localhost:8080/"
        },
        "id": "TgKm6TVHmsA6",
        "outputId": "8fb0a559-ce83-4aab-caab-bd4ca11ad7f2"
      },
      "execution_count": null,
      "outputs": [
        {
          "output_type": "stream",
          "name": "stdout",
          "text": [
            "bytebank.com/cambio?monedaOrigen=usd&monedaDestino=cop&cantidad=100&operacion=venta\n",
            " Url base: bytebank.com/cambio\n",
            " Parámetros: monedaOrigen=usd&monedaDestino=cop&cantidad=100&operacion=venta\n"
          ]
        }
      ]
    },
    {
      "cell_type": "code",
      "source": [
        "print(extractor_url == extractor_url_2) # extractor_url.__eq__(extractror_url_2)"
      ],
      "metadata": {
        "colab": {
          "base_uri": "https://localhost:8080/"
        },
        "id": "07rYzJyunTSz",
        "outputId": "ccfe296e-5180-4a3f-be4f-3d424b696083"
      },
      "execution_count": null,
      "outputs": [
        {
          "output_type": "stream",
          "name": "stdout",
          "text": [
            "True\n"
          ]
        }
      ]
    },
    {
      "cell_type": "code",
      "source": [
        "print(id(extractor_url))\n",
        "print(id(extractor_url_2))"
      ],
      "metadata": {
        "colab": {
          "base_uri": "https://localhost:8080/"
        },
        "id": "VAtNMvsdoPds",
        "outputId": "7ad28d08-af54-4a18-aac8-c695566d0dcf"
      },
      "execution_count": null,
      "outputs": [
        {
          "output_type": "stream",
          "name": "stdout",
          "text": [
            "134069425492160\n",
            "134069425499648\n"
          ]
        }
      ]
    }
  ]
}